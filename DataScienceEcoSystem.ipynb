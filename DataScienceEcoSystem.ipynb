{
  "metadata": {
    "kernelspec": {
      "name": "python",
      "display_name": "Python (Pyodide)",
      "language": "python"
    },
    "language_info": {
      "codemirror_mode": {
        "name": "python",
        "version": 3
      },
      "file_extension": ".py",
      "mimetype": "text/x-python",
      "name": "python",
      "nbconvert_exporter": "python",
      "pygments_lexer": "ipython3",
      "version": "3.8"
    }
  },
  "nbformat_minor": 5,
  "nbformat": 4,
  "cells": [
    {
      "id": "d0a6738e-873f-44e0-8c77-35e4b6b2025a",
      "cell_type": "markdown",
      "source": "# Data Science Tools and Ecosystem",
      "metadata": {}
    },
    {
      "id": "222e8f6c-0a99-4a1b-a95f-103e9d2529a5",
      "cell_type": "markdown",
      "source": "In this notebook, Data Science Tools and Ecosystems are summarized.",
      "metadata": {}
    },
    {
      "id": "b5bf214e-a27f-4a62-8f07-89a7d085eb69",
      "cell_type": "markdown",
      "source": "**Objectives:**\n- List of Popular Data Science Languages\n- List of Commonly Used Libraries in Data Science\n- Data Science Tools\n- Examples of Arithmetic Expressions in Python",
      "metadata": {}
    },
    {
      "id": "fc7f1791-1a54-42b8-882f-195751cfae7b",
      "cell_type": "markdown",
      "source": "Some of the popular languages that Data Scientists use are:\n\n1. Python\n2. JavaScript\n3. Java",
      "metadata": {}
    },
    {
      "id": "af0de08c-ce22-4ced-a4d7-2b73bd5cf7fd",
      "cell_type": "markdown",
      "source": "Some of the commonly used libraries by Data Scientists include:\n\n1. Pandas\n2. NumPy\n3. Seaborn",
      "metadata": {}
    },
    {
      "id": "385571e2-fec2-4a74-86cb-a4b0be9ec288",
      "cell_type": "markdown",
      "source": "| Data Science Tools |\n| ---------------------- |\n| Machine Learning Algorithms |\n| Data Visualization Tools |\n| Data Processing Techniques |",
      "metadata": {}
    },
    {
      "id": "bf0a785d-86b8-409b-a2eb-fd48b446facf",
      "cell_type": "markdown",
      "source": "### Below are a few examples of evaluating arithmetic expressions in Python",
      "metadata": {}
    },
    {
      "id": "b534b621-7efe-41c7-a672-31cd7ca26a5e",
      "cell_type": "code",
      "source": "# This is a simple arithmetic expression to multiply then add integer\n(3*4)+5",
      "metadata": {
        "trusted": true,
        "scrolled": true
      },
      "outputs": [
        {
          "execution_count": 1,
          "output_type": "execute_result",
          "data": {
            "text/plain": "17"
          },
          "metadata": {}
        }
      ],
      "execution_count": 1
    },
    {
      "id": "5ad2bc4d-c103-4177-9d7a-085e0b9c483c",
      "cell_type": "code",
      "source": "# This will convert 200 minutes to hours by dividing by 60\n200/60",
      "metadata": {
        "trusted": true
      },
      "outputs": [
        {
          "execution_count": 8,
          "output_type": "execute_result",
          "data": {
            "text/plain": "3.3333333333333335"
          },
          "metadata": {}
        }
      ],
      "execution_count": 8
    },
    {
      "id": "3370d40d-69e8-4439-be8a-5ee95d6df0c7",
      "cell_type": "markdown",
      "source": "## Author\nJustin Jeff T. Cepria\n\nAuthor",
      "metadata": {}
    },
    {
      "id": "217a2719-642d-4c5f-8214-7317a4a052c8",
      "cell_type": "code",
      "source": "",
      "metadata": {
        "trusted": true
      },
      "outputs": [],
      "execution_count": null
    }
  ]
}